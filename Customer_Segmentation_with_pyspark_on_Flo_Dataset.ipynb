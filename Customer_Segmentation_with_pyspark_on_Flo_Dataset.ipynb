{
 "cells": [
  {
   "cell_type": "markdown",
   "id": "c1945ab8-8db1-4251-aacc-a21005bde208",
   "metadata": {},
   "source": [
    "# Customer Segmentation with pyspark on Flo Dataset\n",
    "\n",
    "📌 In this section, we will perform customer segmentation using pyspark in the Flo dataset."
   ]
  },
  {
   "cell_type": "markdown",
   "id": "9f0e73fa-d6c3-4603-a1ab-b53904b0a052",
   "metadata": {},
   "source": [
    "# Business Problem\n",
    "\n",
    "📌 FLO, an online shoe store, wants to segment its customers and determine marketing strategies according to these segments. For this, the behaviors of the customers will be defined and groups will be formed according to the clusters in these behaviors."
   ]
  },
  {
   "cell_type": "markdown",
   "id": "1e492912-fa5f-4e9d-bca9-eb6e470f78af",
   "metadata": {},
   "source": [
    "# Dataset Story\n",
    "\n",
    "📌 The dataset consists of information obtained from the past shopping behaviors of customers who made their last purchases on OmniChannel (both online and offline) in 2020 - 2021.\n",
    "\n",
    "📌 20,000 observations, 13 variables\n",
    "\n",
    "master_id: Unique client number\n",
    "\n",
    "order_channel : Which channel of the shopping platform is used (Android, ios, Desktop, Mobile, Offline)\n",
    "\n",
    "last_order_channel : The channel where the last purchase was made\n",
    "\n",
    "first_order_date : The date of the first purchase made by the customer\n",
    "\n",
    "last_order_date : The date of the last purchase made by the customer\n",
    "\n",
    "last_order_date_online : The date of the last purchase made by the customer on the online platform\n",
    "\n",
    "last_order_date_offline : The date of the last purchase made by the customer on the offline platform\n",
    "\n",
    "order_num_total_ever_online : The total number of purchases made by the customer on the online platform\n",
    "\n",
    "order_num_total_ever_offline : Total number of purchases made by the customer offline\n",
    "\n",
    "customer_value_total_ever_offline : The total price paid by the customer for offline purchases\n",
    "\n",
    "customer_value_total_ever_online : The total price paid by the customer for their online shopping\n",
    "\n",
    "interested_in_categories_12 : List of categories the customer has shopped in the last 12 months\n",
    "\n",
    "store_type : It represents 3 different companies. If the person who shopped from company A made it from company B, it was written as A, B.\n"
   ]
  },
  {
   "cell_type": "markdown",
   "id": "4d1e65fa-5680-4c0d-ac4a-2239be85de31",
   "metadata": {},
   "source": [
    "# Create Session in Spark"
   ]
  },
  {
   "cell_type": "code",
   "execution_count": 2,
   "id": "d50f174b-0bbf-4ce8-b017-3e519051d4ff",
   "metadata": {},
   "outputs": [
    {
     "name": "stdout",
     "output_type": "stream",
     "text": [
      "Requirement already satisfied: findspark in c:\\users\\tohid\\anaconda3\\lib\\site-packages (2.0.1)\n"
     ]
    }
   ],
   "source": [
    "!pip install findspark\n",
    "import findspark\n",
    "findspark.init(\"C:\\spark\")\n",
    "import pyspark\n",
    "from pyspark.sql import SparkSession\n",
    "from pyspark.conf import SparkConf\n",
    "from pyspark import SparkContext\n",
    "spark = SparkSession.builder \\\n",
    "    .master(\"local\") \\\n",
    "    .appName(\"Flo_Segmentation\") \\\n",
    "    .config(\"spark.sql.shuffle.partitions\", \"2\") \\\n",
    "    .getOrCreate()\n",
    "sc = spark.sparkContext"
   ]
  },
  {
   "cell_type": "code",
   "execution_count": 3,
   "id": "19b40505-066f-4e86-9a5e-f17a47ae83a8",
   "metadata": {},
   "outputs": [
    {
     "data": {
      "text/html": [
       "\n",
       "        <div>\n",
       "            <p><b>SparkContext</b></p>\n",
       "\n",
       "            <p><a href=\"http://DESKTOP-9AQ8NK1:4040\">Spark UI</a></p>\n",
       "\n",
       "            <dl>\n",
       "              <dt>Version</dt>\n",
       "                <dd><code>v3.3.1</code></dd>\n",
       "              <dt>Master</dt>\n",
       "                <dd><code>local</code></dd>\n",
       "              <dt>AppName</dt>\n",
       "                <dd><code>Flo_Segmentation</code></dd>\n",
       "            </dl>\n",
       "        </div>\n",
       "        "
      ],
      "text/plain": [
       "<SparkContext master=local appName=Flo_Segmentation>"
      ]
     },
     "execution_count": 3,
     "metadata": {},
     "output_type": "execute_result"
    }
   ],
   "source": [
    "sc"
   ]
  },
  {
   "cell_type": "markdown",
   "id": "94495a3e-47fd-4c3e-970c-f76cfdc4db2b",
   "metadata": {},
   "source": [
    "# Import Necesaary Libraries"
   ]
  },
  {
   "cell_type": "code",
   "execution_count": 82,
   "id": "874250fc-2fcb-4f9d-883a-ba6e293e315b",
   "metadata": {},
   "outputs": [],
   "source": [
    "import pandas as pd\n",
    "pd.set_option(\"display.max_columns\",None)\n",
    "pd.set_option(\"display.max_rows\", None)\n",
    "pd.set_option(\"display.width\", 500)\n",
    "pd.set_option(\"display.float_format\", lambda x: '%.4f' % x)\n",
    "import pyspark.sql.functions as F\n",
    "from pyspark.ml.feature import VectorAssembler, StandardScaler\n",
    "from pyspark.ml import Pipeline\n",
    "from pyspark.ml.clustering import KMeans\n",
    "from pyspark.ml.evaluation import ClusteringEvaluator"
   ]
  },
  {
   "cell_type": "markdown",
   "id": "55dccf02-95e3-4d0e-a067-876425fc41c8",
   "metadata": {},
   "source": [
    "# Import Dataset"
   ]
  },
  {
   "cell_type": "code",
   "execution_count": 42,
   "id": "59a85c10-cce8-4dd7-a9d3-aec30d3bd5cf",
   "metadata": {},
   "outputs": [
    {
     "data": {
      "text/plain": [
       "DataFrame[master_id: string, order_channel: string, platform_type: string, last_order_channel: string, first_order_date: timestamp, last_order_date: timestamp, last_order_date_online: timestamp, last_order_date_offline: timestamp, order_num_total_ever_online: double, order_num_total_ever_offline: double, customer_value_total_ever_offline: double, customer_value_total_ever_online: double, interested_in_categories_12: string, online_product_group_amount_top_name_12: string, offline_product_group_name_12: string, last_order_date_new: timestamp, store_type: string]"
      ]
     },
     "execution_count": 42,
     "metadata": {},
     "output_type": "execute_result"
    }
   ],
   "source": [
    "df = (spark.read.format(\"csv\")\n",
    "      .option(\"header\", True)\n",
    "      .option(\"delimiter\", \"|\")\n",
    "      .option(\"inferSchema\", True)\n",
    "      .load(\"flo_100k.csv\")\n",
    ")\n",
    "df.persist()"
   ]
  },
  {
   "cell_type": "code",
   "execution_count": 43,
   "id": "a3f3e988-3c56-4d1a-b17c-bd201c035f3a",
   "metadata": {},
   "outputs": [
    {
     "data": {
      "text/html": [
       "<div>\n",
       "<style scoped>\n",
       "    .dataframe tbody tr th:only-of-type {\n",
       "        vertical-align: middle;\n",
       "    }\n",
       "\n",
       "    .dataframe tbody tr th {\n",
       "        vertical-align: top;\n",
       "    }\n",
       "\n",
       "    .dataframe thead th {\n",
       "        text-align: right;\n",
       "    }\n",
       "</style>\n",
       "<table border=\"1\" class=\"dataframe\">\n",
       "  <thead>\n",
       "    <tr style=\"text-align: right;\">\n",
       "      <th></th>\n",
       "      <th>master_id</th>\n",
       "      <th>order_channel</th>\n",
       "      <th>platform_type</th>\n",
       "      <th>last_order_channel</th>\n",
       "      <th>first_order_date</th>\n",
       "      <th>last_order_date</th>\n",
       "      <th>last_order_date_online</th>\n",
       "      <th>last_order_date_offline</th>\n",
       "      <th>order_num_total_ever_online</th>\n",
       "      <th>order_num_total_ever_offline</th>\n",
       "      <th>customer_value_total_ever_offline</th>\n",
       "      <th>customer_value_total_ever_online</th>\n",
       "      <th>interested_in_categories_12</th>\n",
       "      <th>online_product_group_amount_top_name_12</th>\n",
       "      <th>offline_product_group_name_12</th>\n",
       "      <th>last_order_date_new</th>\n",
       "      <th>store_type</th>\n",
       "    </tr>\n",
       "  </thead>\n",
       "  <tbody>\n",
       "    <tr>\n",
       "      <th>0</th>\n",
       "      <td>b3ace094-a17f-11e9-a2fc-000d3a38a36f</td>\n",
       "      <td>Offline</td>\n",
       "      <td>Offline</td>\n",
       "      <td>Offline</td>\n",
       "      <td>2019-02-23 12:59:17</td>\n",
       "      <td>2019-02-23 12:59:17</td>\n",
       "      <td>NaT</td>\n",
       "      <td>2019-02-23 12:59:17</td>\n",
       "      <td>NaN</td>\n",
       "      <td>1.0000</td>\n",
       "      <td>212.9800</td>\n",
       "      <td>0.0000</td>\n",
       "      <td>None</td>\n",
       "      <td>None</td>\n",
       "      <td>None</td>\n",
       "      <td>2019-02-23</td>\n",
       "      <td>A</td>\n",
       "    </tr>\n",
       "    <tr>\n",
       "      <th>1</th>\n",
       "      <td>c57d7c4c-a950-11e9-a2fc-000d3a38a36f</td>\n",
       "      <td>Offline</td>\n",
       "      <td>OmniChannel</td>\n",
       "      <td>Offline</td>\n",
       "      <td>2019-12-01 16:48:09</td>\n",
       "      <td>2019-12-01 16:48:09</td>\n",
       "      <td>NaT</td>\n",
       "      <td>2019-12-01 16:48:09</td>\n",
       "      <td>NaN</td>\n",
       "      <td>1.0000</td>\n",
       "      <td>199.9800</td>\n",
       "      <td>0.0000</td>\n",
       "      <td>None</td>\n",
       "      <td>None</td>\n",
       "      <td>None</td>\n",
       "      <td>2019-12-01</td>\n",
       "      <td>A</td>\n",
       "    </tr>\n",
       "    <tr>\n",
       "      <th>2</th>\n",
       "      <td>602897a6-cdac-11ea-b31f-000d3a38a36f</td>\n",
       "      <td>Offline</td>\n",
       "      <td>Offline</td>\n",
       "      <td>Offline</td>\n",
       "      <td>2020-07-24 15:49:47</td>\n",
       "      <td>2020-07-24 15:49:47</td>\n",
       "      <td>NaT</td>\n",
       "      <td>2020-07-24 15:49:47</td>\n",
       "      <td>NaN</td>\n",
       "      <td>1.0000</td>\n",
       "      <td>140.4900</td>\n",
       "      <td>0.0000</td>\n",
       "      <td>[ERKEK]</td>\n",
       "      <td>None</td>\n",
       "      <td>ERKEK</td>\n",
       "      <td>2020-07-24</td>\n",
       "      <td>A</td>\n",
       "    </tr>\n",
       "    <tr>\n",
       "      <th>3</th>\n",
       "      <td>388e4c4e-af86-11e9-a2fc-000d3a38a36f</td>\n",
       "      <td>Mobile</td>\n",
       "      <td>Online</td>\n",
       "      <td>Mobile</td>\n",
       "      <td>2018-12-31 07:22:07</td>\n",
       "      <td>2018-12-31 07:22:07</td>\n",
       "      <td>2018-12-31 07:22:07</td>\n",
       "      <td>NaT</td>\n",
       "      <td>1.0000</td>\n",
       "      <td>NaN</td>\n",
       "      <td>0.0000</td>\n",
       "      <td>174.9900</td>\n",
       "      <td>None</td>\n",
       "      <td>None</td>\n",
       "      <td>None</td>\n",
       "      <td>2018-12-31</td>\n",
       "      <td>A</td>\n",
       "    </tr>\n",
       "    <tr>\n",
       "      <th>4</th>\n",
       "      <td>80664354-adf0-11eb-8f64-000d3a299ebf</td>\n",
       "      <td>Desktop</td>\n",
       "      <td>Online</td>\n",
       "      <td>Desktop</td>\n",
       "      <td>2021-05-05 21:07:02</td>\n",
       "      <td>2021-05-05 22:39:36</td>\n",
       "      <td>2021-05-05 22:39:36</td>\n",
       "      <td>NaT</td>\n",
       "      <td>2.0000</td>\n",
       "      <td>NaN</td>\n",
       "      <td>0.0000</td>\n",
       "      <td>283.9500</td>\n",
       "      <td>[]</td>\n",
       "      <td>None</td>\n",
       "      <td>None</td>\n",
       "      <td>2021-05-05</td>\n",
       "      <td>A</td>\n",
       "    </tr>\n",
       "  </tbody>\n",
       "</table>\n",
       "</div>"
      ],
      "text/plain": [
       "                              master_id order_channel platform_type last_order_channel    first_order_date     last_order_date last_order_date_online last_order_date_offline  order_num_total_ever_online  order_num_total_ever_offline  customer_value_total_ever_offline  customer_value_total_ever_online interested_in_categories_12 online_product_group_amount_top_name_12 offline_product_group_name_12 last_order_date_new store_type\n",
       "0  b3ace094-a17f-11e9-a2fc-000d3a38a36f       Offline       Offline            Offline 2019-02-23 12:59:17 2019-02-23 12:59:17                    NaT     2019-02-23 12:59:17                          NaN                        1.0000                           212.9800                            0.0000                        None                                    None                          None          2019-02-23          A\n",
       "1  c57d7c4c-a950-11e9-a2fc-000d3a38a36f       Offline   OmniChannel            Offline 2019-12-01 16:48:09 2019-12-01 16:48:09                    NaT     2019-12-01 16:48:09                          NaN                        1.0000                           199.9800                            0.0000                        None                                    None                          None          2019-12-01          A\n",
       "2  602897a6-cdac-11ea-b31f-000d3a38a36f       Offline       Offline            Offline 2020-07-24 15:49:47 2020-07-24 15:49:47                    NaT     2020-07-24 15:49:47                          NaN                        1.0000                           140.4900                            0.0000                     [ERKEK]                                    None                         ERKEK          2020-07-24          A\n",
       "3  388e4c4e-af86-11e9-a2fc-000d3a38a36f        Mobile        Online             Mobile 2018-12-31 07:22:07 2018-12-31 07:22:07    2018-12-31 07:22:07                     NaT                       1.0000                           NaN                             0.0000                          174.9900                        None                                    None                          None          2018-12-31          A\n",
       "4  80664354-adf0-11eb-8f64-000d3a299ebf       Desktop        Online            Desktop 2021-05-05 21:07:02 2021-05-05 22:39:36    2021-05-05 22:39:36                     NaT                       2.0000                           NaN                             0.0000                          283.9500                          []                                    None                          None          2021-05-05          A"
      ]
     },
     "execution_count": 43,
     "metadata": {},
     "output_type": "execute_result"
    }
   ],
   "source": [
    "df.limit(5).toPandas()"
   ]
  },
  {
   "cell_type": "code",
   "execution_count": 44,
   "id": "547371e2-bb9e-4314-8a1c-60e9fc0d0301",
   "metadata": {},
   "outputs": [
    {
     "name": "stdout",
     "output_type": "stream",
     "text": [
      "root\n",
      " |-- master_id: string (nullable = true)\n",
      " |-- order_channel: string (nullable = true)\n",
      " |-- platform_type: string (nullable = true)\n",
      " |-- last_order_channel: string (nullable = true)\n",
      " |-- first_order_date: timestamp (nullable = true)\n",
      " |-- last_order_date: timestamp (nullable = true)\n",
      " |-- last_order_date_online: timestamp (nullable = true)\n",
      " |-- last_order_date_offline: timestamp (nullable = true)\n",
      " |-- order_num_total_ever_online: double (nullable = true)\n",
      " |-- order_num_total_ever_offline: double (nullable = true)\n",
      " |-- customer_value_total_ever_offline: double (nullable = true)\n",
      " |-- customer_value_total_ever_online: double (nullable = true)\n",
      " |-- interested_in_categories_12: string (nullable = true)\n",
      " |-- online_product_group_amount_top_name_12: string (nullable = true)\n",
      " |-- offline_product_group_name_12: string (nullable = true)\n",
      " |-- last_order_date_new: timestamp (nullable = true)\n",
      " |-- store_type: string (nullable = true)\n",
      "\n"
     ]
    }
   ],
   "source": [
    "df.printSchema()"
   ]
  },
  {
   "cell_type": "markdown",
   "id": "432c7ad7-14cb-4748-898c-76ea961cde62",
   "metadata": {},
   "source": [
    "# Missing Value Analysis"
   ]
  },
  {
   "cell_type": "code",
   "execution_count": 11,
   "id": "6ea53642-40b2-4d79-b491-5d82c1271818",
   "metadata": {},
   "outputs": [],
   "source": [
    "def null_count(dataframe, col_name):\n",
    "    nc = dataframe.select(col_name).filter(\n",
    "        (F.col(col_name) == \"NA\")|\n",
    "        (F.col(col_name) == \"\") |\n",
    "        (F.col(col_name).isNull())\n",
    "    ).count()\n",
    "    return nc"
   ]
  },
  {
   "cell_type": "code",
   "execution_count": 12,
   "id": "cfc3dab6-77fe-4ebd-b8bf-376c11bdda47",
   "metadata": {},
   "outputs": [
    {
     "data": {
      "text/plain": [
       "70784"
      ]
     },
     "execution_count": 12,
     "metadata": {},
     "output_type": "execute_result"
    }
   ],
   "source": [
    "null_count(df, \"order_num_total_ever_online\")"
   ]
  },
  {
   "cell_type": "code",
   "execution_count": 15,
   "id": "67ed4956-4aef-495b-847d-c12fc39bc9db",
   "metadata": {},
   "outputs": [],
   "source": [
    "def show_all_null(dataframe):\n",
    "    for col_name in dataframe.dtypes:\n",
    "        nc = null_count(dataframe, col_name[0])\n",
    "        if nc > 0:\n",
    "            print(\"{} ===> {} , Ratio: {:.2f}\".format(col_name[0], nc, (nc/dataframe.count())*100))"
   ]
  },
  {
   "cell_type": "code",
   "execution_count": 16,
   "id": "178702f7-c6a3-4c66-876e-fdee45dd36f5",
   "metadata": {},
   "outputs": [
    {
     "name": "stdout",
     "output_type": "stream",
     "text": [
      "last_order_date_online ===> 70784 , Ratio: 70.78\n",
      "last_order_date_offline ===> 21703 , Ratio: 21.70\n",
      "order_num_total_ever_online ===> 70784 , Ratio: 70.78\n",
      "order_num_total_ever_offline ===> 21703 , Ratio: 21.70\n",
      "interested_in_categories_12 ===> 56590 , Ratio: 56.59\n",
      "online_product_group_amount_top_name_12 ===> 88295 , Ratio: 88.30\n",
      "offline_product_group_name_12 ===> 77209 , Ratio: 77.21\n"
     ]
    }
   ],
   "source": [
    "show_all_null(df)"
   ]
  },
  {
   "cell_type": "code",
   "execution_count": 48,
   "id": "aca82d2f-f762-47df-80e1-82f2de7ba702",
   "metadata": {},
   "outputs": [],
   "source": [
    "# Assigning zeros to the null values of the required variables\n",
    "df = df.na.fill(value=0, subset=[\"order_num_total_ever_online\",\"order_num_total_ever_offline\",\n",
    "                                 \"customer_value_total_ever_offline\",\"customer_value_total_ever_online\"])"
   ]
  },
  {
   "cell_type": "code",
   "execution_count": 49,
   "id": "9d1db65f-c57e-478b-b156-282e9f5f5010",
   "metadata": {},
   "outputs": [
    {
     "name": "stdout",
     "output_type": "stream",
     "text": [
      "last_order_date_online ===> 70784 , Ratio: 70.78\n",
      "last_order_date_offline ===> 21703 , Ratio: 21.70\n",
      "interested_in_categories_12 ===> 56590 , Ratio: 56.59\n",
      "online_product_group_amount_top_name_12 ===> 88295 , Ratio: 88.30\n",
      "offline_product_group_name_12 ===> 77209 , Ratio: 77.21\n"
     ]
    }
   ],
   "source": [
    "show_all_null(df)"
   ]
  },
  {
   "cell_type": "code",
   "execution_count": 50,
   "id": "8b5afd5e-3a1c-4cbb-aa20-a90a6cfae521",
   "metadata": {},
   "outputs": [],
   "source": [
    "df = df.filter((df.order_num_total_ever_online >= 0) &\n",
    "                (df.order_num_total_ever_offline >= 0) &\n",
    "                (df.customer_value_total_ever_offline >= 0) &\n",
    "                (df.customer_value_total_ever_online >= 0))"
   ]
  },
  {
   "cell_type": "code",
   "execution_count": 52,
   "id": "67b508b2-3b5d-48b3-9d8a-175906b48162",
   "metadata": {},
   "outputs": [
    {
     "data": {
      "text/html": [
       "<div>\n",
       "<style scoped>\n",
       "    .dataframe tbody tr th:only-of-type {\n",
       "        vertical-align: middle;\n",
       "    }\n",
       "\n",
       "    .dataframe tbody tr th {\n",
       "        vertical-align: top;\n",
       "    }\n",
       "\n",
       "    .dataframe thead th {\n",
       "        text-align: right;\n",
       "    }\n",
       "</style>\n",
       "<table border=\"1\" class=\"dataframe\">\n",
       "  <thead>\n",
       "    <tr style=\"text-align: right;\">\n",
       "      <th></th>\n",
       "      <th>master_id</th>\n",
       "      <th>order_channel</th>\n",
       "      <th>platform_type</th>\n",
       "      <th>last_order_channel</th>\n",
       "      <th>first_order_date</th>\n",
       "      <th>last_order_date</th>\n",
       "      <th>last_order_date_online</th>\n",
       "      <th>last_order_date_offline</th>\n",
       "      <th>order_num_total_ever_online</th>\n",
       "      <th>order_num_total_ever_offline</th>\n",
       "      <th>customer_value_total_ever_offline</th>\n",
       "      <th>customer_value_total_ever_online</th>\n",
       "      <th>interested_in_categories_12</th>\n",
       "      <th>online_product_group_amount_top_name_12</th>\n",
       "      <th>offline_product_group_name_12</th>\n",
       "      <th>last_order_date_new</th>\n",
       "      <th>store_type</th>\n",
       "    </tr>\n",
       "  </thead>\n",
       "  <tbody>\n",
       "    <tr>\n",
       "      <th>0</th>\n",
       "      <td>b3ace094-a17f-11e9-a2fc-000d3a38a36f</td>\n",
       "      <td>Offline</td>\n",
       "      <td>Offline</td>\n",
       "      <td>Offline</td>\n",
       "      <td>2019-02-23 12:59:17</td>\n",
       "      <td>2019-02-23 12:59:17</td>\n",
       "      <td>NaT</td>\n",
       "      <td>2019-02-23 12:59:17</td>\n",
       "      <td>0.0000</td>\n",
       "      <td>1.0000</td>\n",
       "      <td>212.9800</td>\n",
       "      <td>0.0000</td>\n",
       "      <td>None</td>\n",
       "      <td>None</td>\n",
       "      <td>None</td>\n",
       "      <td>2019-02-23</td>\n",
       "      <td>A</td>\n",
       "    </tr>\n",
       "    <tr>\n",
       "      <th>1</th>\n",
       "      <td>c57d7c4c-a950-11e9-a2fc-000d3a38a36f</td>\n",
       "      <td>Offline</td>\n",
       "      <td>OmniChannel</td>\n",
       "      <td>Offline</td>\n",
       "      <td>2019-12-01 16:48:09</td>\n",
       "      <td>2019-12-01 16:48:09</td>\n",
       "      <td>NaT</td>\n",
       "      <td>2019-12-01 16:48:09</td>\n",
       "      <td>0.0000</td>\n",
       "      <td>1.0000</td>\n",
       "      <td>199.9800</td>\n",
       "      <td>0.0000</td>\n",
       "      <td>None</td>\n",
       "      <td>None</td>\n",
       "      <td>None</td>\n",
       "      <td>2019-12-01</td>\n",
       "      <td>A</td>\n",
       "    </tr>\n",
       "    <tr>\n",
       "      <th>2</th>\n",
       "      <td>602897a6-cdac-11ea-b31f-000d3a38a36f</td>\n",
       "      <td>Offline</td>\n",
       "      <td>Offline</td>\n",
       "      <td>Offline</td>\n",
       "      <td>2020-07-24 15:49:47</td>\n",
       "      <td>2020-07-24 15:49:47</td>\n",
       "      <td>NaT</td>\n",
       "      <td>2020-07-24 15:49:47</td>\n",
       "      <td>0.0000</td>\n",
       "      <td>1.0000</td>\n",
       "      <td>140.4900</td>\n",
       "      <td>0.0000</td>\n",
       "      <td>[ERKEK]</td>\n",
       "      <td>None</td>\n",
       "      <td>ERKEK</td>\n",
       "      <td>2020-07-24</td>\n",
       "      <td>A</td>\n",
       "    </tr>\n",
       "    <tr>\n",
       "      <th>3</th>\n",
       "      <td>388e4c4e-af86-11e9-a2fc-000d3a38a36f</td>\n",
       "      <td>Mobile</td>\n",
       "      <td>Online</td>\n",
       "      <td>Mobile</td>\n",
       "      <td>2018-12-31 07:22:07</td>\n",
       "      <td>2018-12-31 07:22:07</td>\n",
       "      <td>2018-12-31 07:22:07</td>\n",
       "      <td>NaT</td>\n",
       "      <td>1.0000</td>\n",
       "      <td>0.0000</td>\n",
       "      <td>0.0000</td>\n",
       "      <td>174.9900</td>\n",
       "      <td>None</td>\n",
       "      <td>None</td>\n",
       "      <td>None</td>\n",
       "      <td>2018-12-31</td>\n",
       "      <td>A</td>\n",
       "    </tr>\n",
       "    <tr>\n",
       "      <th>4</th>\n",
       "      <td>80664354-adf0-11eb-8f64-000d3a299ebf</td>\n",
       "      <td>Desktop</td>\n",
       "      <td>Online</td>\n",
       "      <td>Desktop</td>\n",
       "      <td>2021-05-05 21:07:02</td>\n",
       "      <td>2021-05-05 22:39:36</td>\n",
       "      <td>2021-05-05 22:39:36</td>\n",
       "      <td>NaT</td>\n",
       "      <td>2.0000</td>\n",
       "      <td>0.0000</td>\n",
       "      <td>0.0000</td>\n",
       "      <td>283.9500</td>\n",
       "      <td>[]</td>\n",
       "      <td>None</td>\n",
       "      <td>None</td>\n",
       "      <td>2021-05-05</td>\n",
       "      <td>A</td>\n",
       "    </tr>\n",
       "  </tbody>\n",
       "</table>\n",
       "</div>"
      ],
      "text/plain": [
       "                              master_id order_channel platform_type last_order_channel    first_order_date     last_order_date last_order_date_online last_order_date_offline  order_num_total_ever_online  order_num_total_ever_offline  customer_value_total_ever_offline  customer_value_total_ever_online interested_in_categories_12 online_product_group_amount_top_name_12 offline_product_group_name_12 last_order_date_new store_type\n",
       "0  b3ace094-a17f-11e9-a2fc-000d3a38a36f       Offline       Offline            Offline 2019-02-23 12:59:17 2019-02-23 12:59:17                    NaT     2019-02-23 12:59:17                       0.0000                        1.0000                           212.9800                            0.0000                        None                                    None                          None          2019-02-23          A\n",
       "1  c57d7c4c-a950-11e9-a2fc-000d3a38a36f       Offline   OmniChannel            Offline 2019-12-01 16:48:09 2019-12-01 16:48:09                    NaT     2019-12-01 16:48:09                       0.0000                        1.0000                           199.9800                            0.0000                        None                                    None                          None          2019-12-01          A\n",
       "2  602897a6-cdac-11ea-b31f-000d3a38a36f       Offline       Offline            Offline 2020-07-24 15:49:47 2020-07-24 15:49:47                    NaT     2020-07-24 15:49:47                       0.0000                        1.0000                           140.4900                            0.0000                     [ERKEK]                                    None                         ERKEK          2020-07-24          A\n",
       "3  388e4c4e-af86-11e9-a2fc-000d3a38a36f        Mobile        Online             Mobile 2018-12-31 07:22:07 2018-12-31 07:22:07    2018-12-31 07:22:07                     NaT                       1.0000                        0.0000                             0.0000                          174.9900                        None                                    None                          None          2018-12-31          A\n",
       "4  80664354-adf0-11eb-8f64-000d3a299ebf       Desktop        Online            Desktop 2021-05-05 21:07:02 2021-05-05 22:39:36    2021-05-05 22:39:36                     NaT                       2.0000                        0.0000                             0.0000                          283.9500                          []                                    None                          None          2021-05-05          A"
      ]
     },
     "execution_count": 52,
     "metadata": {},
     "output_type": "execute_result"
    }
   ],
   "source": [
    "df.limit(5).toPandas()"
   ]
  },
  {
   "cell_type": "markdown",
   "id": "36481bde-88b8-4389-bfd6-e4cf8ca9c200",
   "metadata": {},
   "source": [
    "# General Information About to the Dataset"
   ]
  },
  {
   "cell_type": "code",
   "execution_count": 24,
   "id": "02d44d8e-46f3-48e7-a4fb-de873983ee03",
   "metadata": {},
   "outputs": [
    {
     "name": "stdout",
     "output_type": "stream",
     "text": [
      "(100000, 17)\n"
     ]
    }
   ],
   "source": [
    "print((df.count(), len(df.columns)))"
   ]
  },
  {
   "cell_type": "code",
   "execution_count": 21,
   "id": "dfad179d-19fb-4d30-95e8-891e419a318d",
   "metadata": {},
   "outputs": [],
   "source": [
    "def distinct_df(dataframe, col_name):\n",
    "    if dataframe.select(col_name).distinct().count() == dataframe.count():\n",
    "        print(\"Yes, users dataframe is distinct\")\n",
    "    else:\n",
    "        print(\"No, users dataframe is not distinct\")"
   ]
  },
  {
   "cell_type": "code",
   "execution_count": 22,
   "id": "53d58ca1-7e35-4466-b5d4-e1848429faf1",
   "metadata": {},
   "outputs": [
    {
     "name": "stdout",
     "output_type": "stream",
     "text": [
      "Yes, users dataframe is distinct\n"
     ]
    }
   ],
   "source": [
    "distinct_df(df, \"master_id\")"
   ]
  },
  {
   "cell_type": "code",
   "execution_count": 23,
   "id": "c0697f14-9e9d-46f3-9058-1709c69d6a2a",
   "metadata": {},
   "outputs": [
    {
     "name": "stdout",
     "output_type": "stream",
     "text": [
      "+-------------+-------------+-----+\n",
      "|platform_type|order_channel|count|\n",
      "+-------------+-------------+-----+\n",
      "|  OmniChannel|      Offline| 4793|\n",
      "|       Online|      Ios App| 3008|\n",
      "|      Offline|      Offline|65991|\n",
      "|       Online|       Mobile| 6451|\n",
      "|       Online|      Desktop| 3253|\n",
      "|       Online|  Android App| 8728|\n",
      "|  OmniChannel|       Mobile| 2061|\n",
      "|  OmniChannel|  Android App| 3261|\n",
      "|  OmniChannel|      Ios App|  956|\n",
      "|  OmniChannel|      Desktop| 1498|\n",
      "+-------------+-------------+-----+\n",
      "\n"
     ]
    }
   ],
   "source": [
    "# show total platform type and order channel sales\n",
    "df.groupby([\"platform_type\",\"order_channel\"]).count().show()"
   ]
  },
  {
   "cell_type": "code",
   "execution_count": 53,
   "id": "dc153a63-f604-4c43-aad1-3810b2f7949b",
   "metadata": {},
   "outputs": [],
   "source": [
    "# create order_num_total and customer_value_total variables\n",
    "df = df.withColumn(\"order_num_total\", df.order_num_total_ever_online + df.order_num_total_ever_offline)\n",
    "df  =df.withColumn(\"customer_value_total\", df.customer_value_total_ever_offline + df.customer_value_total_ever_online)"
   ]
  },
  {
   "cell_type": "code",
   "execution_count": 56,
   "id": "83882e0e-9e34-43c8-9259-446b0ca74266",
   "metadata": {},
   "outputs": [
    {
     "name": "stdout",
     "output_type": "stream",
     "text": [
      "+-------------+----------------+-------------------------+--------------------+\n",
      "|order_channel|count(master_id)|avg(customer_value_total)|avg(order_num_total)|\n",
      "+-------------+----------------+-------------------------+--------------------+\n",
      "|      Offline|           70784|        218.1639484913738|  1.6003475361663653|\n",
      "|      Ios App|            3964|        568.4640312815278|   3.377648839556004|\n",
      "|       Mobile|            8512|        391.7418761748324|   2.798637218045113|\n",
      "|      Desktop|            4751|       376.91355504103205|   2.538623447695222|\n",
      "|  Android App|           11989|         532.846284093796|    3.50971724080407|\n",
      "+-------------+----------------+-------------------------+--------------------+\n",
      "\n"
     ]
    }
   ],
   "source": [
    "# sales values by order channel\n",
    "df.groupby(\"order_channel\").agg({\"master_id\": \"count\",\n",
    "                                \"order_num_total\": \"mean\",\n",
    "                                \"customer_value_total\": \"mean\"}).show()"
   ]
  },
  {
   "cell_type": "code",
   "execution_count": 57,
   "id": "0da239e4-a281-4840-944b-195b82bb3367",
   "metadata": {},
   "outputs": [
    {
     "name": "stdout",
     "output_type": "stream",
     "text": [
      "+-------------+----------------+-------------------------+--------------------+\n",
      "|platform_type|count(master_id)|avg(customer_value_total)|avg(order_num_total)|\n",
      "+-------------+----------------+-------------------------+--------------------+\n",
      "|      Offline|           65991|       215.73030686020934|  1.5837917291751906|\n",
      "|  OmniChannel|           12569|        500.7937512929094|  3.4947092051873656|\n",
      "|       Online|           21440|        404.7896576493302|  2.6207089552238805|\n",
      "+-------------+----------------+-------------------------+--------------------+\n",
      "\n"
     ]
    }
   ],
   "source": [
    "# sales values by platform\n",
    "df.groupby(\"platform_type\").agg({\"master_id\": \"count\",\n",
    "                                \"order_num_total\": \"mean\",\n",
    "                                \"customer_value_total\": \"mean\"}).show()"
   ]
  },
  {
   "cell_type": "markdown",
   "id": "b123e939-4925-433d-b0d5-4e98eb6e4cd8",
   "metadata": {},
   "source": [
    "# Create RFM(Recency, Frequency & Monetary)"
   ]
  },
  {
   "cell_type": "code",
   "execution_count": 58,
   "id": "f9fa35bb-ff0e-4f68-a2f8-e50dd7a77034",
   "metadata": {},
   "outputs": [
    {
     "name": "stdout",
     "output_type": "stream",
     "text": [
      "+--------------------+-------------------+---------------+--------------------+\n",
      "|           master_id|last_order_date_new|order_num_total|customer_value_total|\n",
      "+--------------------+-------------------+---------------+--------------------+\n",
      "|b3ace094-a17f-11e...|2019-02-23 00:00:00|            1.0|              212.98|\n",
      "|c57d7c4c-a950-11e...|2019-12-01 00:00:00|            1.0|              199.98|\n",
      "|602897a6-cdac-11e...|2020-07-24 00:00:00|            1.0|              140.49|\n",
      "|388e4c4e-af86-11e...|2018-12-31 00:00:00|            1.0|              174.99|\n",
      "|80664354-adf0-11e...|2021-05-05 00:00:00|            2.0|              283.95|\n",
      "+--------------------+-------------------+---------------+--------------------+\n",
      "only showing top 5 rows\n",
      "\n"
     ]
    }
   ],
   "source": [
    "# create RFM \n",
    "rfm = df[[\"master_id\",\"last_order_date_new\",\"order_num_total\",\"customer_value_total\"]]\n",
    "rfm.show(5)"
   ]
  },
  {
   "cell_type": "code",
   "execution_count": 68,
   "id": "0bd6bf24-98cd-47c0-b8ed-74f081f97aa9",
   "metadata": {},
   "outputs": [
    {
     "data": {
      "text/plain": [
       "datetime.date(2021, 5, 30)"
      ]
     },
     "execution_count": 68,
     "metadata": {},
     "output_type": "execute_result"
    }
   ],
   "source": [
    "# select last_date\n",
    "last_order_date = df.agg({\"last_order_date\":\"max\"}).collect()[0][0]\n",
    "last_order_date.date()"
   ]
  },
  {
   "cell_type": "code",
   "execution_count": 72,
   "id": "0581d894-aae4-44a1-849e-3db5b915597a",
   "metadata": {},
   "outputs": [
    {
     "name": "stdout",
     "output_type": "stream",
     "text": [
      "+--------------------+-------------------+---------------+--------------------+-------+\n",
      "|           master_id|last_order_date_new|order_num_total|customer_value_total|Recency|\n",
      "+--------------------+-------------------+---------------+--------------------+-------+\n",
      "|b3ace094-a17f-11e...|2019-02-23 00:00:00|            1.0|              212.98|    829|\n",
      "|c57d7c4c-a950-11e...|2019-12-01 00:00:00|            1.0|              199.98|    548|\n",
      "|602897a6-cdac-11e...|2020-07-24 00:00:00|            1.0|              140.49|    312|\n",
      "|388e4c4e-af86-11e...|2018-12-31 00:00:00|            1.0|              174.99|    883|\n",
      "|80664354-adf0-11e...|2021-05-05 00:00:00|            2.0|              283.95|     27|\n",
      "+--------------------+-------------------+---------------+--------------------+-------+\n",
      "only showing top 5 rows\n",
      "\n"
     ]
    }
   ],
   "source": [
    "# create Recency\n",
    "rfm = rfm.withColumn(\"Recency\",F.expr(\"datediff('2021-6-1', last_order_date_new)\"))\n",
    "rfm.show(5)"
   ]
  },
  {
   "cell_type": "code",
   "execution_count": 76,
   "id": "624d74f1-6a77-4e6b-ae4b-575c2fd0bd1b",
   "metadata": {},
   "outputs": [
    {
     "name": "stdout",
     "output_type": "stream",
     "text": [
      "+--------------------+-------------------+---------+--------+-------+\n",
      "|           master_id|last_order_date_new|Frequency|Monetary|Recency|\n",
      "+--------------------+-------------------+---------+--------+-------+\n",
      "|b3ace094-a17f-11e...|2019-02-23 00:00:00|      1.0|  212.98|    829|\n",
      "|c57d7c4c-a950-11e...|2019-12-01 00:00:00|      1.0|  199.98|    548|\n",
      "|602897a6-cdac-11e...|2020-07-24 00:00:00|      1.0|  140.49|    312|\n",
      "|388e4c4e-af86-11e...|2018-12-31 00:00:00|      1.0|  174.99|    883|\n",
      "|80664354-adf0-11e...|2021-05-05 00:00:00|      2.0|  283.95|     27|\n",
      "+--------------------+-------------------+---------+--------+-------+\n",
      "only showing top 5 rows\n",
      "\n"
     ]
    }
   ],
   "source": [
    "# Renamed variables\n",
    "rfm = (rfm.withColumnRenamed(\"order_num_total\", \"Frequency\")\n",
    "          .withColumnRenamed(\"customer_value_total\", \"Monetary\"))\n",
    "rfm.show(5)"
   ]
  },
  {
   "cell_type": "code",
   "execution_count": 77,
   "id": "a31695a2-2fe4-46f4-be1d-5d11470d41d5",
   "metadata": {},
   "outputs": [
    {
     "name": "stdout",
     "output_type": "stream",
     "text": [
      "+--------------------+---------+--------+-------+\n",
      "|           master_id|Frequency|Monetary|Recency|\n",
      "+--------------------+---------+--------+-------+\n",
      "|b3ace094-a17f-11e...|      1.0|  212.98|    829|\n",
      "|c57d7c4c-a950-11e...|      1.0|  199.98|    548|\n",
      "|602897a6-cdac-11e...|      1.0|  140.49|    312|\n",
      "|388e4c4e-af86-11e...|      1.0|  174.99|    883|\n",
      "|80664354-adf0-11e...|      2.0|  283.95|     27|\n",
      "+--------------------+---------+--------+-------+\n",
      "only showing top 5 rows\n",
      "\n"
     ]
    }
   ],
   "source": [
    "# drop last_order_date_new\n",
    "rfm = rfm.drop(\"last_order_date_new\")\n",
    "rfm.show(5)"
   ]
  },
  {
   "cell_type": "markdown",
   "id": "64c280ef-5d57-4670-b4a0-b3c79501bed5",
   "metadata": {},
   "source": [
    "# Create Model"
   ]
  },
  {
   "cell_type": "code",
   "execution_count": 79,
   "id": "5e372905-10f7-48e1-a1a7-8632c04cb56a",
   "metadata": {},
   "outputs": [],
   "source": [
    "rfm_col = [\"Recency\", \"Frequency\", \"Monetary\"]\n",
    "assembler = VectorAssembler().setHandleInvalid(\"skip\").setInputCols(rfm_col).setOutputCol(\"unscaled_features\")\n",
    "scaler = StandardScaler().setInputCol(\"unscaled_features\").setOutputCol(\"features\")"
   ]
  },
  {
   "cell_type": "code",
   "execution_count": 80,
   "id": "87b93217-3f23-416d-a933-c0c16842bdb1",
   "metadata": {},
   "outputs": [],
   "source": [
    "# create and fit pipeline model\n",
    "pipeline_obj = Pipeline().setStages([assembler, scaler])\n",
    "pipeline_model = pipeline_obj.fit(rfm)"
   ]
  },
  {
   "cell_type": "code",
   "execution_count": 81,
   "id": "b66b8bc8-c413-4f48-b277-28fcccb17b34",
   "metadata": {},
   "outputs": [
    {
     "data": {
      "text/html": [
       "<div>\n",
       "<style scoped>\n",
       "    .dataframe tbody tr th:only-of-type {\n",
       "        vertical-align: middle;\n",
       "    }\n",
       "\n",
       "    .dataframe tbody tr th {\n",
       "        vertical-align: top;\n",
       "    }\n",
       "\n",
       "    .dataframe thead th {\n",
       "        text-align: right;\n",
       "    }\n",
       "</style>\n",
       "<table border=\"1\" class=\"dataframe\">\n",
       "  <thead>\n",
       "    <tr style=\"text-align: right;\">\n",
       "      <th></th>\n",
       "      <th>master_id</th>\n",
       "      <th>Frequency</th>\n",
       "      <th>Monetary</th>\n",
       "      <th>Recency</th>\n",
       "      <th>unscaled_features</th>\n",
       "      <th>features</th>\n",
       "    </tr>\n",
       "  </thead>\n",
       "  <tbody>\n",
       "    <tr>\n",
       "      <th>0</th>\n",
       "      <td>b3ace094-a17f-11e9-a2fc-000d3a38a36f</td>\n",
       "      <td>1.0000</td>\n",
       "      <td>212.9800</td>\n",
       "      <td>829</td>\n",
       "      <td>[829.0, 1.0, 212.98]</td>\n",
       "      <td>[3.2479381193526153, 0.3277012075046895, 0.459...</td>\n",
       "    </tr>\n",
       "    <tr>\n",
       "      <th>1</th>\n",
       "      <td>c57d7c4c-a950-11e9-a2fc-000d3a38a36f</td>\n",
       "      <td>1.0000</td>\n",
       "      <td>199.9800</td>\n",
       "      <td>548</td>\n",
       "      <td>[548.0, 1.0, 199.98]</td>\n",
       "      <td>[2.147008551755408, 0.3277012075046895, 0.4318...</td>\n",
       "    </tr>\n",
       "    <tr>\n",
       "      <th>2</th>\n",
       "      <td>602897a6-cdac-11ea-b31f-000d3a38a36f</td>\n",
       "      <td>1.0000</td>\n",
       "      <td>140.4900</td>\n",
       "      <td>312</td>\n",
       "      <td>[312.0, 1.0, 140.49]</td>\n",
       "      <td>[1.2223844309264367, 0.3277012075046895, 0.303...</td>\n",
       "    </tr>\n",
       "    <tr>\n",
       "      <th>3</th>\n",
       "      <td>388e4c4e-af86-11e9-a2fc-000d3a38a36f</td>\n",
       "      <td>1.0000</td>\n",
       "      <td>174.9900</td>\n",
       "      <td>883</td>\n",
       "      <td>[883.0, 1.0, 174.99]</td>\n",
       "      <td>[3.4595046554744986, 0.3277012075046895, 0.377...</td>\n",
       "    </tr>\n",
       "    <tr>\n",
       "      <th>4</th>\n",
       "      <td>80664354-adf0-11eb-8f64-000d3a299ebf</td>\n",
       "      <td>2.0000</td>\n",
       "      <td>283.9500</td>\n",
       "      <td>27</td>\n",
       "      <td>[27.0, 2.0, 283.95]</td>\n",
       "      <td>[0.10578326806094163, 0.655402415009379, 0.613...</td>\n",
       "    </tr>\n",
       "  </tbody>\n",
       "</table>\n",
       "</div>"
      ],
      "text/plain": [
       "                              master_id  Frequency  Monetary  Recency     unscaled_features                                           features\n",
       "0  b3ace094-a17f-11e9-a2fc-000d3a38a36f     1.0000  212.9800      829  [829.0, 1.0, 212.98]  [3.2479381193526153, 0.3277012075046895, 0.459...\n",
       "1  c57d7c4c-a950-11e9-a2fc-000d3a38a36f     1.0000  199.9800      548  [548.0, 1.0, 199.98]  [2.147008551755408, 0.3277012075046895, 0.4318...\n",
       "2  602897a6-cdac-11ea-b31f-000d3a38a36f     1.0000  140.4900      312  [312.0, 1.0, 140.49]  [1.2223844309264367, 0.3277012075046895, 0.303...\n",
       "3  388e4c4e-af86-11e9-a2fc-000d3a38a36f     1.0000  174.9900      883  [883.0, 1.0, 174.99]  [3.4595046554744986, 0.3277012075046895, 0.377...\n",
       "4  80664354-adf0-11eb-8f64-000d3a299ebf     2.0000  283.9500       27   [27.0, 2.0, 283.95]  [0.10578326806094163, 0.655402415009379, 0.613..."
      ]
     },
     "execution_count": 81,
     "metadata": {},
     "output_type": "execute_result"
    }
   ],
   "source": [
    "# show transform pipeline dataframe\n",
    "transform_df = pipeline_model.transform(rfm)\n",
    "transform_df.limit(5).toPandas()"
   ]
  },
  {
   "cell_type": "code",
   "execution_count": 83,
   "id": "ce09584b-f18c-41ed-807e-727e0e45b423",
   "metadata": {},
   "outputs": [],
   "source": [
    "# compute k-means model for k clusters\n",
    "def compute_kmeans_model(dataframe, k):\n",
    "    kmeans_object = KMeans() \\\n",
    "        .setSeed(123) \\\n",
    "        .setK(k)\n",
    "    \n",
    "    return kmeans_object.fit(dataframe)"
   ]
  },
  {
   "cell_type": "code",
   "execution_count": 84,
   "id": "2c678ee3-a426-4327-8157-dd8a3cb17586",
   "metadata": {},
   "outputs": [],
   "source": [
    "# create evaluator object\n",
    "evaluator = ClusteringEvaluator()"
   ]
  },
  {
   "cell_type": "code",
   "execution_count": 87,
   "id": "75b0f3a3-01ec-46d7-ad0d-7a330858beb0",
   "metadata": {},
   "outputs": [
    {
     "name": "stdout",
     "output_type": "stream",
     "text": [
      "k: 2, score: 0.440\n",
      "k: 3, score: 0.655\n",
      "k: 4, score: 0.672\n",
      "k: 5, score: 0.502\n",
      "k: 6, score: 0.542\n",
      "k: 7, score: 0.549\n",
      "k: 8, score: 0.572\n",
      "k: 9, score: 0.570\n",
      "k: 10, score: 0.550\n"
     ]
    }
   ],
   "source": [
    "# find Silhouette score\n",
    "score_k_list = []\n",
    "for k in range(2, 11):\n",
    "    kmeans_model = compute_kmeans_model(transform_df, k)\n",
    "    transformed_df = kmeans_model.transform(transform_df)\n",
    "    score_k = evaluator.evaluate(transformed_df)\n",
    "    score_k_list.append(score_k)\n",
    "    print(\"k: {}, score: {:.3f}\".format(k, score_k))"
   ]
  },
  {
   "cell_type": "code",
   "execution_count": 98,
   "id": "7dc30a6c-6114-45b0-a9b4-cd6e1b1b2363",
   "metadata": {},
   "outputs": [],
   "source": [
    "# find optimum k \n",
    "def find_optimum_k(transform_df, k_range):\n",
    "    score_k_list = []\n",
    "    for k in range(2, k_range):\n",
    "        kmeans_model = compute_kmeans_model(transform_df, k)\n",
    "        transformed_df = kmeans_model.transform(transform_df)\n",
    "        score_k = evaluator.evaluate(transformed_df)\n",
    "        score_k_list.append(score_k)\n",
    "    optimum_k_value = max(score_k_list)\n",
    "    optimum_k_index = score_k_list.index(optimum_k_value) + 2\n",
    "    print(\"Optimum k value: {:.3f} , and index: {}\".format(optimum_k_value, optimum_k_index))\n",
    "    return optimum_k_index"
   ]
  },
  {
   "cell_type": "code",
   "execution_count": 99,
   "id": "bbbbcecf-44ec-47bb-a706-863c680adcd4",
   "metadata": {},
   "outputs": [
    {
     "name": "stdout",
     "output_type": "stream",
     "text": [
      "Optimum k value: 0.672 , and index: 4\n"
     ]
    }
   ],
   "source": [
    "optimum_k = find_optimum_k(transform_df, 11)"
   ]
  },
  {
   "cell_type": "code",
   "execution_count": 100,
   "id": "03d83431-74f9-479d-aba5-8cc2235383f4",
   "metadata": {},
   "outputs": [],
   "source": [
    "# optimum_k = 4\n",
    "kmeans_model = compute_kmeans_model(transform_df, optimum_k)"
   ]
  },
  {
   "cell_type": "code",
   "execution_count": 101,
   "id": "efffc9bd-c0e8-4dd1-a73a-c4bd55f8e415",
   "metadata": {},
   "outputs": [
    {
     "data": {
      "text/html": [
       "<div>\n",
       "<style scoped>\n",
       "    .dataframe tbody tr th:only-of-type {\n",
       "        vertical-align: middle;\n",
       "    }\n",
       "\n",
       "    .dataframe tbody tr th {\n",
       "        vertical-align: top;\n",
       "    }\n",
       "\n",
       "    .dataframe thead th {\n",
       "        text-align: right;\n",
       "    }\n",
       "</style>\n",
       "<table border=\"1\" class=\"dataframe\">\n",
       "  <thead>\n",
       "    <tr style=\"text-align: right;\">\n",
       "      <th></th>\n",
       "      <th>master_id</th>\n",
       "      <th>Frequency</th>\n",
       "      <th>Monetary</th>\n",
       "      <th>Recency</th>\n",
       "      <th>unscaled_features</th>\n",
       "      <th>features</th>\n",
       "      <th>prediction</th>\n",
       "    </tr>\n",
       "  </thead>\n",
       "  <tbody>\n",
       "    <tr>\n",
       "      <th>0</th>\n",
       "      <td>b3ace094-a17f-11e9-a2fc-000d3a38a36f</td>\n",
       "      <td>1.0000</td>\n",
       "      <td>212.9800</td>\n",
       "      <td>829</td>\n",
       "      <td>[829.0, 1.0, 212.98]</td>\n",
       "      <td>[3.2479381193526153, 0.3277012075046895, 0.459...</td>\n",
       "      <td>0</td>\n",
       "    </tr>\n",
       "    <tr>\n",
       "      <th>1</th>\n",
       "      <td>c57d7c4c-a950-11e9-a2fc-000d3a38a36f</td>\n",
       "      <td>1.0000</td>\n",
       "      <td>199.9800</td>\n",
       "      <td>548</td>\n",
       "      <td>[548.0, 1.0, 199.98]</td>\n",
       "      <td>[2.147008551755408, 0.3277012075046895, 0.4318...</td>\n",
       "      <td>0</td>\n",
       "    </tr>\n",
       "    <tr>\n",
       "      <th>2</th>\n",
       "      <td>602897a6-cdac-11ea-b31f-000d3a38a36f</td>\n",
       "      <td>1.0000</td>\n",
       "      <td>140.4900</td>\n",
       "      <td>312</td>\n",
       "      <td>[312.0, 1.0, 140.49]</td>\n",
       "      <td>[1.2223844309264367, 0.3277012075046895, 0.303...</td>\n",
       "      <td>1</td>\n",
       "    </tr>\n",
       "    <tr>\n",
       "      <th>3</th>\n",
       "      <td>388e4c4e-af86-11e9-a2fc-000d3a38a36f</td>\n",
       "      <td>1.0000</td>\n",
       "      <td>174.9900</td>\n",
       "      <td>883</td>\n",
       "      <td>[883.0, 1.0, 174.99]</td>\n",
       "      <td>[3.4595046554744986, 0.3277012075046895, 0.377...</td>\n",
       "      <td>0</td>\n",
       "    </tr>\n",
       "    <tr>\n",
       "      <th>4</th>\n",
       "      <td>80664354-adf0-11eb-8f64-000d3a299ebf</td>\n",
       "      <td>2.0000</td>\n",
       "      <td>283.9500</td>\n",
       "      <td>27</td>\n",
       "      <td>[27.0, 2.0, 283.95]</td>\n",
       "      <td>[0.10578326806094163, 0.655402415009379, 0.613...</td>\n",
       "      <td>1</td>\n",
       "    </tr>\n",
       "  </tbody>\n",
       "</table>\n",
       "</div>"
      ],
      "text/plain": [
       "                              master_id  Frequency  Monetary  Recency     unscaled_features                                           features  prediction\n",
       "0  b3ace094-a17f-11e9-a2fc-000d3a38a36f     1.0000  212.9800      829  [829.0, 1.0, 212.98]  [3.2479381193526153, 0.3277012075046895, 0.459...           0\n",
       "1  c57d7c4c-a950-11e9-a2fc-000d3a38a36f     1.0000  199.9800      548  [548.0, 1.0, 199.98]  [2.147008551755408, 0.3277012075046895, 0.4318...           0\n",
       "2  602897a6-cdac-11ea-b31f-000d3a38a36f     1.0000  140.4900      312  [312.0, 1.0, 140.49]  [1.2223844309264367, 0.3277012075046895, 0.303...           1\n",
       "3  388e4c4e-af86-11e9-a2fc-000d3a38a36f     1.0000  174.9900      883  [883.0, 1.0, 174.99]  [3.4595046554744986, 0.3277012075046895, 0.377...           0\n",
       "4  80664354-adf0-11eb-8f64-000d3a299ebf     2.0000  283.9500       27   [27.0, 2.0, 283.95]  [0.10578326806094163, 0.655402415009379, 0.613...           1"
      ]
     },
     "execution_count": 101,
     "metadata": {},
     "output_type": "execute_result"
    }
   ],
   "source": [
    "# prediction\n",
    "transformed_df = kmeans_model.transform(transform_df)\n",
    "transformed_df.limit(5).toPandas()"
   ]
  },
  {
   "cell_type": "code",
   "execution_count": 102,
   "id": "07d1ac45-94a6-4525-850a-48897212df88",
   "metadata": {},
   "outputs": [
    {
     "data": {
      "text/html": [
       "<div>\n",
       "<style scoped>\n",
       "    .dataframe tbody tr th:only-of-type {\n",
       "        vertical-align: middle;\n",
       "    }\n",
       "\n",
       "    .dataframe tbody tr th {\n",
       "        vertical-align: top;\n",
       "    }\n",
       "\n",
       "    .dataframe thead th {\n",
       "        text-align: right;\n",
       "    }\n",
       "</style>\n",
       "<table border=\"1\" class=\"dataframe\">\n",
       "  <thead>\n",
       "    <tr style=\"text-align: right;\">\n",
       "      <th></th>\n",
       "      <th>master_id</th>\n",
       "      <th>Frequency</th>\n",
       "      <th>Monetary</th>\n",
       "      <th>Recency</th>\n",
       "      <th>unscaled_features</th>\n",
       "      <th>features</th>\n",
       "      <th>prediction</th>\n",
       "    </tr>\n",
       "  </thead>\n",
       "  <tbody>\n",
       "    <tr>\n",
       "      <th>0</th>\n",
       "      <td>b3ace094-a17f-11e9-a2fc-000d3a38a36f</td>\n",
       "      <td>1.0000</td>\n",
       "      <td>212.9800</td>\n",
       "      <td>829</td>\n",
       "      <td>[829.0, 1.0, 212.98]</td>\n",
       "      <td>[3.2479381193526153, 0.3277012075046895, 0.459...</td>\n",
       "      <td>1</td>\n",
       "    </tr>\n",
       "    <tr>\n",
       "      <th>1</th>\n",
       "      <td>c57d7c4c-a950-11e9-a2fc-000d3a38a36f</td>\n",
       "      <td>1.0000</td>\n",
       "      <td>199.9800</td>\n",
       "      <td>548</td>\n",
       "      <td>[548.0, 1.0, 199.98]</td>\n",
       "      <td>[2.147008551755408, 0.3277012075046895, 0.4318...</td>\n",
       "      <td>1</td>\n",
       "    </tr>\n",
       "    <tr>\n",
       "      <th>2</th>\n",
       "      <td>602897a6-cdac-11ea-b31f-000d3a38a36f</td>\n",
       "      <td>1.0000</td>\n",
       "      <td>140.4900</td>\n",
       "      <td>312</td>\n",
       "      <td>[312.0, 1.0, 140.49]</td>\n",
       "      <td>[1.2223844309264367, 0.3277012075046895, 0.303...</td>\n",
       "      <td>2</td>\n",
       "    </tr>\n",
       "    <tr>\n",
       "      <th>3</th>\n",
       "      <td>388e4c4e-af86-11e9-a2fc-000d3a38a36f</td>\n",
       "      <td>1.0000</td>\n",
       "      <td>174.9900</td>\n",
       "      <td>883</td>\n",
       "      <td>[883.0, 1.0, 174.99]</td>\n",
       "      <td>[3.4595046554744986, 0.3277012075046895, 0.377...</td>\n",
       "      <td>1</td>\n",
       "    </tr>\n",
       "    <tr>\n",
       "      <th>4</th>\n",
       "      <td>80664354-adf0-11eb-8f64-000d3a299ebf</td>\n",
       "      <td>2.0000</td>\n",
       "      <td>283.9500</td>\n",
       "      <td>27</td>\n",
       "      <td>[27.0, 2.0, 283.95]</td>\n",
       "      <td>[0.10578326806094163, 0.655402415009379, 0.613...</td>\n",
       "      <td>2</td>\n",
       "    </tr>\n",
       "  </tbody>\n",
       "</table>\n",
       "</div>"
      ],
      "text/plain": [
       "                              master_id  Frequency  Monetary  Recency     unscaled_features                                           features  prediction\n",
       "0  b3ace094-a17f-11e9-a2fc-000d3a38a36f     1.0000  212.9800      829  [829.0, 1.0, 212.98]  [3.2479381193526153, 0.3277012075046895, 0.459...           1\n",
       "1  c57d7c4c-a950-11e9-a2fc-000d3a38a36f     1.0000  199.9800      548  [548.0, 1.0, 199.98]  [2.147008551755408, 0.3277012075046895, 0.4318...           1\n",
       "2  602897a6-cdac-11ea-b31f-000d3a38a36f     1.0000  140.4900      312  [312.0, 1.0, 140.49]  [1.2223844309264367, 0.3277012075046895, 0.303...           2\n",
       "3  388e4c4e-af86-11e9-a2fc-000d3a38a36f     1.0000  174.9900      883  [883.0, 1.0, 174.99]  [3.4595046554744986, 0.3277012075046895, 0.377...           1\n",
       "4  80664354-adf0-11eb-8f64-000d3a299ebf     2.0000  283.9500       27   [27.0, 2.0, 283.95]  [0.10578326806094163, 0.655402415009379, 0.613...           2"
      ]
     },
     "execution_count": 102,
     "metadata": {},
     "output_type": "execute_result"
    }
   ],
   "source": [
    "transformed_df = transformed_df.withColumn(\"prediction\", (transformed_df[\"prediction\"] + 1))\n",
    "transformed_df.limit(5).toPandas()"
   ]
  },
  {
   "cell_type": "code",
   "execution_count": 103,
   "id": "185ac423-c52b-4d44-8fcc-3af8b3300b79",
   "metadata": {},
   "outputs": [
    {
     "data": {
      "text/html": [
       "<div>\n",
       "<style scoped>\n",
       "    .dataframe tbody tr th:only-of-type {\n",
       "        vertical-align: middle;\n",
       "    }\n",
       "\n",
       "    .dataframe tbody tr th {\n",
       "        vertical-align: top;\n",
       "    }\n",
       "\n",
       "    .dataframe thead th {\n",
       "        text-align: right;\n",
       "    }\n",
       "</style>\n",
       "<table border=\"1\" class=\"dataframe\">\n",
       "  <thead>\n",
       "    <tr style=\"text-align: right;\">\n",
       "      <th></th>\n",
       "      <th>master_id</th>\n",
       "      <th>prediction</th>\n",
       "    </tr>\n",
       "  </thead>\n",
       "  <tbody>\n",
       "    <tr>\n",
       "      <th>0</th>\n",
       "      <td>b3ace094-a17f-11e9-a2fc-000d3a38a36f</td>\n",
       "      <td>1</td>\n",
       "    </tr>\n",
       "    <tr>\n",
       "      <th>1</th>\n",
       "      <td>c57d7c4c-a950-11e9-a2fc-000d3a38a36f</td>\n",
       "      <td>1</td>\n",
       "    </tr>\n",
       "    <tr>\n",
       "      <th>2</th>\n",
       "      <td>602897a6-cdac-11ea-b31f-000d3a38a36f</td>\n",
       "      <td>2</td>\n",
       "    </tr>\n",
       "    <tr>\n",
       "      <th>3</th>\n",
       "      <td>388e4c4e-af86-11e9-a2fc-000d3a38a36f</td>\n",
       "      <td>1</td>\n",
       "    </tr>\n",
       "    <tr>\n",
       "      <th>4</th>\n",
       "      <td>80664354-adf0-11eb-8f64-000d3a299ebf</td>\n",
       "      <td>2</td>\n",
       "    </tr>\n",
       "    <tr>\n",
       "      <th>5</th>\n",
       "      <td>47511f36-aeb4-11e9-a2fc-000d3a38a36f</td>\n",
       "      <td>1</td>\n",
       "    </tr>\n",
       "    <tr>\n",
       "      <th>6</th>\n",
       "      <td>77f7c318-3407-11eb-9a15-000d3a38a36f</td>\n",
       "      <td>2</td>\n",
       "    </tr>\n",
       "    <tr>\n",
       "      <th>7</th>\n",
       "      <td>399d6dd2-ecf1-11ea-9369-000d3a38a36f</td>\n",
       "      <td>2</td>\n",
       "    </tr>\n",
       "    <tr>\n",
       "      <th>8</th>\n",
       "      <td>b3d4a6f2-a368-11e9-a2fc-000d3a38a36f</td>\n",
       "      <td>2</td>\n",
       "    </tr>\n",
       "    <tr>\n",
       "      <th>9</th>\n",
       "      <td>42fdccd4-f1d1-11ea-bde9-000d3a38a36f</td>\n",
       "      <td>2</td>\n",
       "    </tr>\n",
       "  </tbody>\n",
       "</table>\n",
       "</div>"
      ],
      "text/plain": [
       "                              master_id  prediction\n",
       "0  b3ace094-a17f-11e9-a2fc-000d3a38a36f           1\n",
       "1  c57d7c4c-a950-11e9-a2fc-000d3a38a36f           1\n",
       "2  602897a6-cdac-11ea-b31f-000d3a38a36f           2\n",
       "3  388e4c4e-af86-11e9-a2fc-000d3a38a36f           1\n",
       "4  80664354-adf0-11eb-8f64-000d3a299ebf           2\n",
       "5  47511f36-aeb4-11e9-a2fc-000d3a38a36f           1\n",
       "6  77f7c318-3407-11eb-9a15-000d3a38a36f           2\n",
       "7  399d6dd2-ecf1-11ea-9369-000d3a38a36f           2\n",
       "8  b3d4a6f2-a368-11e9-a2fc-000d3a38a36f           2\n",
       "9  42fdccd4-f1d1-11ea-bde9-000d3a38a36f           2"
      ]
     },
     "execution_count": 103,
     "metadata": {},
     "output_type": "execute_result"
    }
   ],
   "source": [
    "transformed_df.select(\"master_id\", \"prediction\").limit(10).toPandas()"
   ]
  },
  {
   "cell_type": "code",
   "execution_count": 104,
   "id": "21fd66eb-c83b-433a-a30f-6f99ffa27954",
   "metadata": {},
   "outputs": [
    {
     "data": {
      "text/plain": [
       "4"
      ]
     },
     "execution_count": 104,
     "metadata": {},
     "output_type": "execute_result"
    }
   ],
   "source": [
    "transformed_df.select(\"prediction\").distinct().count()"
   ]
  },
  {
   "cell_type": "code",
   "execution_count": 108,
   "id": "feac25fa-7d62-495f-96f4-e7af09f6b9e2",
   "metadata": {},
   "outputs": [
    {
     "name": "stdout",
     "output_type": "stream",
     "text": [
      "+----------+-----+------------------+------------------+------------------+\n",
      "|prediction|count|      avg_monetary|       avg_recency|     avg_frequency|\n",
      "+----------+-----+------------------+------------------+------------------+\n",
      "|         3|    8|26985.673750000005|           324.875|           196.875|\n",
      "|         4| 3586|1653.0847044060242|191.23006134969324|10.237032905744563|\n",
      "|         2|42227| 315.6817353826911|173.59634830795463| 2.082790631586426|\n",
      "|         1|54179|179.68744015223677| 615.3929566806327|1.4469443880470292|\n",
      "+----------+-----+------------------+------------------+------------------+\n",
      "\n"
     ]
    }
   ],
   "source": [
    "# descriptive statistics\n",
    "transformed_df.groupby(\"prediction\").agg(F.count(\"Monetary\").alias(\"count\"),\n",
    "                                        F.mean(\"Monetary\").alias(\"avg_monetary\"),\n",
    "                                        F.mean(\"Recency\").alias(\"avg_recency\"),\n",
    "                                        F.mean(\"Frequency\").alias(\"avg_frequency\")).sort(F.desc(\"avg_monetary\")).show()"
   ]
  }
 ],
 "metadata": {
  "kernelspec": {
   "display_name": "Python 3 (ipykernel)",
   "language": "python",
   "name": "python3"
  },
  "language_info": {
   "codemirror_mode": {
    "name": "ipython",
    "version": 3
   },
   "file_extension": ".py",
   "mimetype": "text/x-python",
   "name": "python",
   "nbconvert_exporter": "python",
   "pygments_lexer": "ipython3",
   "version": "3.9.12"
  }
 },
 "nbformat": 4,
 "nbformat_minor": 5
}
